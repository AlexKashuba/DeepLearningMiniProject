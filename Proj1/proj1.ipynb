{
 "cells": [
  {
   "cell_type": "code",
   "execution_count": 65,
   "metadata": {},
   "outputs": [],
   "source": [
    "import dlc_practical_prologue as prologue\n",
    "import torch\n",
    "from torch import nn\n",
    "from torch.nn import functional as F\n",
    "\n",
    "N_PAIRS = 1000\n",
    "MINI_BATCH_SIZE = 100  \n",
    "EPOCHS = 25\n",
    "LEFT = 0\n",
    "RIGHT = 1\n",
    "\n",
    "#TODO: add comments\n",
    "#TODO: average over multiple runs\n",
    "#TODO: normalize?\n",
    "#TODO: perf?\n",
    "\n",
    "def train_model(model, train_input, train_target, train_classes):\n",
    "    criterion = nn.CrossEntropyLoss()\n",
    "    optimizer = torch.optim.Adam(model.parameters())\n",
    "\n",
    "    for e in range(EPOCHS):\n",
    "        sum_loss = 0\n",
    "        for b in range(0, train_input.size(0), MINI_BATCH_SIZE):\n",
    "            optimizer.zero_grad()\n",
    "            output = model(train_input.narrow(0, b, MINI_BATCH_SIZE))\n",
    "            \n",
    "            if not model.binary:    \n",
    "                loss = criterion(output[0], train_classes.narrow(0, b, MINI_BATCH_SIZE)[:,0])\n",
    "                loss += criterion(output[1], train_classes.narrow(0, b, MINI_BATCH_SIZE)[:,1])\n",
    "                \n",
    "            else:\n",
    "                loss = criterion(output, train_target.narrow(0, b, MINI_BATCH_SIZE))\n",
    "            \n",
    "            sum_loss = sum_loss + loss.item()\n",
    "            \n",
    "            if model.aux:\n",
    "                left, right = model.get_subnetwork_output()\n",
    "                classes = train_classes.narrow(0, b, MINI_BATCH_SIZE)\n",
    "                loss += 0.4*criterion(left, classes[:, LEFT])\n",
    "                loss += 0.4*criterion(right, classes[:, RIGHT])\n",
    "\n",
    "            loss.backward()\n",
    "            optimizer.step()\n",
    "\n",
    "        print(e, sum_loss)\n",
    "\n",
    "def compute_nb_errors(model, _input, target):\n",
    "    nb_erros = 0\n",
    "    for b in range(0, _input.size(0), MINI_BATCH_SIZE):\n",
    "        output_res = model(_input.narrow(0, b, MINI_BATCH_SIZE))\n",
    "        _, predicted = output_res.max(1)\n",
    "        for i in range(MINI_BATCH_SIZE):\n",
    "            real = target[b+i]\n",
    "            if real != predicted[i]:\n",
    "                nb_erros += 1\n",
    "\n",
    "    return nb_erros"
   ]
  },
  {
   "cell_type": "code",
   "execution_count": 76,
   "metadata": {},
   "outputs": [
    {
     "data": {
      "text/plain": [
       "4608"
      ]
     },
     "execution_count": 76,
     "metadata": {},
     "output_type": "execute_result"
    }
   ],
   "source": [
    "12*12*32"
   ]
  },
  {
   "cell_type": "code",
   "execution_count": 75,
   "metadata": {},
   "outputs": [
    {
     "data": {
      "text/plain": [
       "torch.Size([1000, 2, 14, 14])"
      ]
     },
     "execution_count": 75,
     "metadata": {},
     "output_type": "execute_result"
    }
   ],
   "source": [
    "train_input.shape"
   ]
  },
  {
   "cell_type": "code",
   "execution_count": 77,
   "metadata": {},
   "outputs": [],
   "source": [
    "class DigitSubnetwork(nn.Module):\n",
    "\n",
    "    def __init__(self, aux=False, nb_hidden=200):\n",
    "        super(DigitSubnetwork, self).__init__()\n",
    "        self.aux = aux\n",
    "        self.aux_out = None\n",
    "        self.conv1 = nn.Conv2d(1, 32, kernel_size=3)\n",
    "        self.conv2 = nn.Conv2d(32, 64, kernel_size=3)\n",
    "        self.fc1 = nn.Linear(4 * 4 * 64, nb_hidden)\n",
    "        self.fc2 = nn.Linear(nb_hidden, 10)\n",
    "        \n",
    "        if self.aux:\n",
    "            self.fcaux = nn.Linear(6 * 6 * 32, 10)\n",
    "\n",
    "    def forward(self, x):\n",
    "        x = self.conv1(x)\n",
    "        x = F.relu(F.max_pool2d(x, kernel_size=2))\n",
    "        \n",
    "        if self.aux:\n",
    "            self.aux_out = self.fcaux(x.view(-1, 6*6*32))\n",
    "        \n",
    "        x = self.conv2(x)\n",
    "        x = F.relu(x)\n",
    "\n",
    "        x = F.relu(self.fc1(x.view(-1, 4 * 4 * 64)))\n",
    "        x = self.fc2(x)\n",
    "\n",
    "        return x, self.aux_out\n",
    "\n",
    "class Model(nn.Module):\n",
    "    def __init__(self, weight_sharing=False, aux=False, binary=False):\n",
    "        super(Model, self).__init__()\n",
    "        self.left = DigitSubnetwork(aux)\n",
    "        self.weight_sharing = weight_sharing\n",
    "        self.aux = aux\n",
    "        self.binary = binary\n",
    "        \n",
    "        if not weight_sharing:\n",
    "            self.right = DigitSubnetwork()\n",
    "            \n",
    "        self.fc = nn.Linear(20, 200)\n",
    "        self.fc2 = nn.Linear(200, 2)\n",
    "        self.left_out = None\n",
    "        self.right_out = None\n",
    "\n",
    "    def get_subnetwork_output(self):\n",
    "        return (self.left_out, self.right_out)\n",
    "\n",
    "    def forward(self, x):\n",
    "        left, left_aux_out = self.left(x[:, LEFT, :, :].unsqueeze(1))\n",
    "        if not self.weight_sharing:\n",
    "            right, right_aux_out = self.right(x[:, RIGHT, :, :].unsqueeze(1))\n",
    "        else:\n",
    "            right, right_aux_out = self.left(x[:, RIGHT, :, :].unsqueeze(1))\n",
    "\n",
    "        self.left_out = left\n",
    "        self.right_out = right\n",
    "        \n",
    "        if left_aux_out != None:\n",
    "            self.left_out = left_aux_out\n",
    "            self.right_out = right_aux_out\n",
    "        \n",
    "        if not self.binary:\n",
    "            return left, right\n",
    "        else:\n",
    "            x = torch.cat((left, right), dim=1)\n",
    "            x = self.fc(x)\n",
    "            x = F.relu(x)\n",
    "            x = self.fc2(x)\n",
    "            return x"
   ]
  },
  {
   "cell_type": "code",
   "execution_count": 67,
   "metadata": {},
   "outputs": [],
   "source": [
    "def compute_accuracy(inp, targ, model):\n",
    "    if model.binary:\n",
    "        out = model(inp)\n",
    "        pred = torch.argmax(out, dim=1)\n",
    "        errors = torch.abs(pred - targ).sum().item()\n",
    "        \n",
    "    else:\n",
    "        out_1, out_2 = model(inp)\n",
    "        pred_1, pred_2 = torch.argmax(out_1, dim=1), torch.argmax(out_2, dim=1) \n",
    "\n",
    "        difference = pred_2 - pred_1\n",
    "        difference[difference >= 0] = 1\n",
    "        difference[difference < 0] = 0\n",
    "\n",
    "        errors = torch.sum(torch.abs(difference - targ)).item()\n",
    "    \n",
    "    return 100 * (1 - errors/inp.shape[0])"
   ]
  },
  {
   "cell_type": "code",
   "execution_count": 68,
   "metadata": {},
   "outputs": [],
   "source": [
    "from IPython.display import clear_output"
   ]
  },
  {
   "cell_type": "code",
   "execution_count": 79,
   "metadata": {},
   "outputs": [
    {
     "name": "stdout",
     "output_type": "stream",
     "text": [
      "Avg test acc %: 96.78\n"
     ]
    }
   ],
   "source": [
    "if __name__ == \"__main__\":\n",
    "    rounds = 10\n",
    "    avg_error = 0\n",
    "    avg_acc = 0\n",
    "    \n",
    "    for i in range(rounds):\n",
    "        model = Model(weight_sharing=True, binary=False, aux=True)\n",
    "        \n",
    "        train_input, train_target, train_classes, test_input, test_target, test_classes = \\\n",
    "            prologue.generate_pair_sets(N_PAIRS)\n",
    "\n",
    "        train_model(model, train_input, train_target, train_classes)\n",
    "\n",
    "        acc = compute_accuracy(test_input, test_target, model)        \n",
    "\n",
    "        avg_acc += acc\n",
    "        print(\"Test accuracy: {}\".format(acc))\n",
    "    \n",
    "        clear_output(wait=True)\n",
    "        \n",
    "\n",
    "    avg_acc = avg_acc/rounds\n",
    "    print(\"Avg test acc %: {}\".format(avg_acc))"
   ]
  },
  {
   "cell_type": "code",
   "execution_count": null,
   "metadata": {},
   "outputs": [],
   "source": []
  }
 ],
 "metadata": {
  "kernelspec": {
   "display_name": "Python 3",
   "language": "python",
   "name": "python3"
  },
  "language_info": {
   "codemirror_mode": {
    "name": "ipython",
    "version": 3
   },
   "file_extension": ".py",
   "mimetype": "text/x-python",
   "name": "python",
   "nbconvert_exporter": "python",
   "pygments_lexer": "ipython3",
   "version": "3.7.3"
  }
 },
 "nbformat": 4,
 "nbformat_minor": 2
}
